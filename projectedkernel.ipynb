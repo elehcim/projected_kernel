{
 "cells": [
  {
   "cell_type": "code",
   "execution_count": 1,
   "metadata": {},
   "outputs": [],
   "source": [
    "import numpy as np"
   ]
  },
  {
   "cell_type": "markdown",
   "metadata": {},
   "source": [
    "Kernel from pynbody, M4 from Price et al 2012"
   ]
  },
  {
   "cell_type": "code",
   "execution_count": 2,
   "metadata": {},
   "outputs": [],
   "source": [
    "def kernel_M4(q, h=1):\n",
    "    \"\"\"Get the value of the kernel for a given smoothing length.\"\"\"\n",
    "    if q < 1:\n",
    "        f = 1. - (3. / 2) * q ** 2 + (3. / 4.) * q ** 3\n",
    "    elif q < 2:\n",
    "        f = 0.25 * (2. - q) ** 3\n",
    "    else:\n",
    "        f = 0\n",
    "\n",
    "    return f / (np.pi * h ** 3)"
   ]
  },
  {
   "cell_type": "markdown",
   "metadata": {},
   "source": [
    "The kernel is a weighted sum of powers of $q=r/h$. Below, I will integrate each of these powers separately over the line of sight. A line-of-sight integral over a function $f(r)$ is given by\n",
    "\\begin{equation}\n",
    "I(r_p) = 2 \\int_{r_p}^\\infty \\frac{f(r)rdr}{\\sqrt{r^2-r_p^2}} = 2h \\int_{q_p}^\\infty \\frac{f(q)qdq}{\\sqrt{q^2-q_p^2}},\n",
    "\\end{equation}\n",
    "with $r_p$ the projected radius (the smallest distance between the line of sight and $r=0$). In the second integral, $q_p=r_p/h$."
   ]
  },
  {
   "cell_type": "code",
   "execution_count": 3,
   "metadata": {},
   "outputs": [],
   "source": [
    "def kernel(r,h):\n",
    "    q = r/h\n",
    "    fac = np.pi*h*h*h\n",
    "    if q>2.0:\n",
    "        return 0.0\n",
    "    elif q>1.0:\n",
    "        return (2.0 + q*(-3+q*(1.5-0.25*q)))/fac\n",
    "    else: \n",
    "        return (1.0 + q*q*(0.75*q-1.5))/fac"
   ]
  },
  {
   "cell_type": "markdown",
   "metadata": {},
   "source": [
    "$I0$ is the integral\n",
    "\\begin{equation}\n",
    "\\int \\frac{q}{\\sqrt{q^2-q_p^2}}dq\n",
    "\\end{equation}"
   ]
  },
  {
   "cell_type": "code",
   "execution_count": 4,
   "metadata": {},
   "outputs": [],
   "source": [
    "def I0(q,qp):\n",
    "    if q>qp:\n",
    "        return np.sqrt(q*q-qp*qp)\n",
    "    else:\n",
    "        return 0.0"
   ]
  },
  {
   "cell_type": "markdown",
   "metadata": {},
   "source": [
    "$I1$ is the integral\n",
    "\\begin{equation}\n",
    "\\int \\frac{q^2}{\\sqrt{q^2-q_p^2}}dq\n",
    "\\end{equation}"
   ]
  },
  {
   "cell_type": "code",
   "execution_count": 5,
   "metadata": {},
   "outputs": [],
   "source": [
    "def I1(q,qp):\n",
    "    if qp>0.0:\n",
    "        if q>qp:\n",
    "            tmp = np.sqrt(q*q-qp*qp)\n",
    "            return (q*tmp + qp*qp*np.arccosh(q/qp))/2\n",
    "#             return q*tmp + qp*qp*np.log(tmp + q)\n",
    "        else:\n",
    "            return 0.0\n",
    "    else:\n",
    "        return 0.5*q*q"
   ]
  },
  {
   "cell_type": "markdown",
   "metadata": {},
   "source": [
    "$I2$ is the integral\n",
    "\\begin{equation}\n",
    "\\int \\frac{q^3}{\\sqrt{q^2-q_p^2}}dq\n",
    "\\end{equation}"
   ]
  },
  {
   "cell_type": "code",
   "execution_count": 6,
   "metadata": {},
   "outputs": [],
   "source": [
    "def I2(q,qp):\n",
    "    if q>qp:\n",
    "        return (2*qp*qp+q*q)*np.sqrt(q*q-qp*qp)/3\n",
    "    else:\n",
    "        return 0.0"
   ]
  },
  {
   "cell_type": "markdown",
   "metadata": {},
   "source": [
    "$I3$ is the integral\n",
    "\\begin{equation}\n",
    "\\int \\frac{q^4}{\\sqrt{q^2-q_p^2}}dq\n",
    "\\end{equation}"
   ]
  },
  {
   "cell_type": "code",
   "execution_count": 7,
   "metadata": {},
   "outputs": [],
   "source": [
    "def I3(q,qp):\n",
    "    if qp>0.0:\n",
    "        if q>qp:\n",
    "            tmp = np.sqrt(q*q-qp*qp)\n",
    "            return (q*(3*qp*qp+2*q*q)*tmp + 3*qp**4*np.arccosh(q/qp))/8\n",
    "        else:\n",
    "            return 0.0\n",
    "    else:\n",
    "        return 0.25*q**4"
   ]
  },
  {
   "cell_type": "markdown",
   "metadata": {},
   "source": [
    "In the cell below, each of these integrals is used to compose the line-of-sight integral over the kernel. "
   ]
  },
  {
   "cell_type": "code",
   "execution_count": 8,
   "metadata": {},
   "outputs": [],
   "source": [
    "def kernel2d(rp,h):\n",
    "    qp = rp/h\n",
    "    fac = 2/np.pi/h/h\n",
    "    if qp>2.0:\n",
    "        return 0.0\n",
    "    elif qp>1.0:\n",
    "        return ( 2*(I0(2,qp)-I0(qp,qp)) - 3*(I1(2,qp)-I1(qp,qp)) + 1.5*(I2(2,qp)-I2(qp,qp)) \\\n",
    "                -0.25*(I3(2,qp)-I3(qp,qp)) )*fac\n",
    "    else:\n",
    "        tmp1 = (I0(1,qp)-I0(qp,qp)) - 1.5*(I2(1,qp)-I2(qp,qp)) + 0.75*(I3(1,qp)-I3(qp,qp))\n",
    "        tmp2 = 2*(I0(2,qp)-I0(1,qp)) - 3*(I1(2,qp)-I1(1,qp)) + 1.5*(I2(2,qp)-I2(1,qp)) \\\n",
    "                -0.25*(I3(2,qp)-I3(1,qp))\n",
    "        return fac*(tmp1+tmp2)"
   ]
  },
  {
   "cell_type": "markdown",
   "metadata": {},
   "source": [
    "### Vectorize the `pynbody` kernel"
   ]
  },
  {
   "cell_type": "code",
   "execution_count": 9,
   "metadata": {},
   "outputs": [],
   "source": [
    "from pynbody.sph import Kernel, Kernel2D\n",
    "\n",
    "kernel_M4_vec = np.vectorize(kernel_M4)"
   ]
  },
  {
   "cell_type": "markdown",
   "metadata": {},
   "source": [
    "### Integrate the vectorized kernel up to the correct quantity "
   ]
  },
  {
   "cell_type": "code",
   "execution_count": 10,
   "metadata": {},
   "outputs": [],
   "source": [
    "def get_value2d(d, h=1):\n",
    "    import scipy.integrate as integrate\n",
    "    return 2 * integrate.quad(lambda z: kernel_M4_vec(np.sqrt(z ** 2 + d ** 2), h), 0, 2*h)[0]\n",
    "\n",
    "class MyKernel2D(Kernel2D):\n",
    "    def __init__(self, **kwargs):\n",
    "        super().__init__(**kwargs)\n",
    "\n",
    "    def get_value(self, d, h=1):\n",
    "        return get_value2d(d,h)"
   ]
  },
  {
   "cell_type": "code",
   "execution_count": 11,
   "metadata": {},
   "outputs": [],
   "source": [
    "%matplotlib inline\n",
    "from matplotlib import pyplot as plt\n",
    "k = Kernel()\n",
    "pynbody_k2d = Kernel2D()\n",
    "corrected_k2d = MyKernel2D()"
   ]
  },
  {
   "cell_type": "code",
   "execution_count": 12,
   "metadata": {},
   "outputs": [],
   "source": [
    "h = 1.0\n",
    "rowr = np.linspace( 0.0, 2*h, 100)\n",
    "analytic_M4 = [ kernel(r,h) for r in rowr ]\n",
    "analytic_M4_2D = [ kernel2d(r,h) for r in rowr ]\n",
    "pynbody_M4_2D = [pynbody_k2d.get_value(r) for r in rowr]\n",
    "corr_M4_2D = [corrected_k2d.get_value(r) for r in rowr]"
   ]
  },
  {
   "cell_type": "code",
   "execution_count": 13,
   "metadata": {},
   "outputs": [
    {
     "data": {
      "image/png": "[encoded data removed]",
      "text/plain": [
       "<Figure size 432x288 with 1 Axes>"
      ]
     },
     "metadata": {
      "needs_background": "light"
     },
     "output_type": "display_data"
    }
   ],
   "source": [
    "fig = plt.figure( )\n",
    "ax  = fig.add_subplot(111)\n",
    "ax.plot(rowr,analytic_M4,'k-', label='analytical kernel')\n",
    "ax.plot(rowr,analytic_M4_2D,'r-', label='analytical kernel2D')\n",
    "ax.plot(rowr,pynbody_M4_2D,'+', alpha=0.4, label='pynbody Kernel2D')\n",
    "ax.plot(rowr,corr_M4_2D,'+', alpha=0.4, label='corrected Kernel2D')\n",
    "plt.legend()\n",
    "plt.show()"
   ]
  },
  {
   "cell_type": "code",
   "execution_count": null,
   "metadata": {},
   "outputs": [],
   "source": []
  }
 ],
 "metadata": {
  "kernelspec": {
   "display_name": "Python 3",
   "language": "python",
   "name": "python3"
  },
  "language_info": {
   "codemirror_mode": {
    "name": "ipython",
    "version": 3
   },
   "file_extension": ".py",
   "mimetype": "text/x-python",
   "name": "python",
   "nbconvert_exporter": "python",
   "pygments_lexer": "ipython3",
   "version": "3.7.7"
  }
 },
 "nbformat": 4,
 "nbformat_minor": 4
}
